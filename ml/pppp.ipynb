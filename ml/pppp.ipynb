{
 "cells": [
  {
   "cell_type": "code",
   "execution_count": 1,
   "id": "0ec3c950-acbe-4e76-9ef7-5f5da5940117",
   "metadata": {},
   "outputs": [],
   "source": [
    "import pandas as pd\n",
    "\n",
    "df = pd.read_csv('data/Fish.csv')"
   ]
  },
  {
   "cell_type": "code",
   "execution_count": 3,
   "id": "f357fd95-daf3-4773-a9b0-83fcc5a84fe0",
   "metadata": {},
   "outputs": [],
   "source": [
    "perch_df = df.loc[df['Species'] == 'Perch']\n",
    "\n",
    "perch_length = perch_df[['Length2']]\n",
    "perch_weight = perch_df[['Weight']]"
   ]
  },
  {
   "cell_type": "code",
   "execution_count": 5,
   "id": "5374b807-48da-4a78-85ff-36449ec6d912",
   "metadata": {},
   "outputs": [],
   "source": [
    "#데이터 나누기\n",
    "from sklearn.model_selection import train_test_split\n",
    "\n",
    "train_input, test_input, train_target, test_target = train_test_split(perch_length, perch_weight)"
   ]
  },
  {
   "cell_type": "code",
   "execution_count": 6,
   "id": "af7b33ba-b2ea-4f12-90c1-1cc9d7f782a0",
   "metadata": {},
   "outputs": [],
   "source": [
    "from sklearn.linear_model import LinearRegression"
   ]
  },
  {
   "cell_type": "code",
   "execution_count": null,
   "id": "68955fc5-14ff-408e-9202-8cbf1f7fad14",
   "metadata": {},
   "outputs": [],
   "source": []
  },
  {
   "cell_type": "code",
   "execution_count": null,
   "id": "0cf659d7-fdf4-401c-bbe8-c29ebe737e2b",
   "metadata": {},
   "outputs": [],
   "source": []
  },
  {
   "cell_type": "code",
   "execution_count": null,
   "id": "59ed8084-c5cd-4c7a-a05b-291c8d48dd83",
   "metadata": {},
   "outputs": [],
   "source": []
  }
 ],
 "metadata": {
  "kernelspec": {
   "display_name": "Python 3 (ipykernel)",
   "language": "python",
   "name": "python3"
  },
  "language_info": {
   "codemirror_mode": {
    "name": "ipython",
    "version": 3
   },
   "file_extension": ".py",
   "mimetype": "text/x-python",
   "name": "python",
   "nbconvert_exporter": "python",
   "pygments_lexer": "ipython3",
   "version": "3.13.2"
  }
 },
 "nbformat": 4,
 "nbformat_minor": 5
}
