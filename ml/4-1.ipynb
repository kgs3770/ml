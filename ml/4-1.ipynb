{
 "cells": [
  {
   "cell_type": "code",
   "execution_count": 11,
   "id": "5e798f32-19da-48cd-b2b3-6496cd1a1042",
   "metadata": {},
   "outputs": [],
   "source": [
    "import pandas as pd\n",
    "\n",
    "df = pd.read_csv('data/Fish.csv')"
   ]
  },
  {
   "cell_type": "code",
   "execution_count": 12,
   "id": "2439f991-fb6c-410e-8f06-85ecd041d6ef",
   "metadata": {},
   "outputs": [],
   "source": [
    "#다섯개의 속성으로 데이터를 뽑을거임"
   ]
  },
  {
   "cell_type": "code",
   "execution_count": 6,
   "id": "e82ebf7f-f6c6-4f74-985b-43afae7eebf9",
   "metadata": {},
   "outputs": [
    {
     "data": {
      "text/plain": [
       "array(['Bream', 'Roach', 'Whitefish', 'Parkki', 'Perch', 'Pike', 'Smelt'],\n",
       "      dtype=object)"
      ]
     },
     "execution_count": 6,
     "metadata": {},
     "output_type": "execute_result"
    }
   ],
   "source": [
    "df['Species'].unique() #원하는 데이터만 뽑고 싶을 때 .unique()"
   ]
  },
  {
   "cell_type": "code",
   "execution_count": 9,
   "id": "efe2a91d-4479-4473-9938-69f0c695b3da",
   "metadata": {},
   "outputs": [],
   "source": [
    "#속성만 뽑음\n",
    "fish_input = df[['Weight', 'Length2', 'Length3', 'Height', 'Width']]\n",
    "#fish_input.head"
   ]
  },
  {
   "cell_type": "code",
   "execution_count": 10,
   "id": "1cfc74ed-0166-402d-b418-ca7d0bea4988",
   "metadata": {},
   "outputs": [],
   "source": [
    "fish_target = df[['Species']]"
   ]
  },
  {
   "cell_type": "code",
   "execution_count": 13,
   "id": "32af44c6-e218-4c1b-a2b0-a8024e1d6a5b",
   "metadata": {},
   "outputs": [],
   "source": [
    "from sklearn.model_selection import train_test_split\n",
    "\n",
    "train_input, test_input, train_target, test_target = train_test_split(fish_input, fish_target)"
   ]
  },
  {
   "cell_type": "code",
   "execution_count": 16,
   "id": "0041ef73-b6a2-4124-b5bb-487e3832f9b3",
   "metadata": {},
   "outputs": [],
   "source": [
    "#데이터 정규화\n",
    "from sklearn.preprocessing import StandardScaler\n",
    "\n",
    "ss = StandardScaler()\n",
    "ss.fit(train_input)\n",
    "train_scaled = ss.transform(train_input)\n",
    "test_scaled = ss.transform(test_input)"
   ]
  },
  {
   "cell_type": "code",
   "execution_count": 23,
   "id": "75eef143-b619-4844-919e-12d8a3a8ba77",
   "metadata": {},
   "outputs": [
    {
     "name": "stdout",
     "output_type": "stream",
     "text": [
      "0.8739495798319328\n",
      "0.725\n"
     ]
    },
    {
     "name": "stderr",
     "output_type": "stream",
     "text": [
      "C:\\Users\\1-02\\Desktop\\DAMF2\\ml\\venv\\Lib\\site-packages\\sklearn\\neighbors\\_classification.py:239: DataConversionWarning: A column-vector y was passed when a 1d array was expected. Please change the shape of y to (n_samples,), for example using ravel().\n",
      "  return self._fit(X, y)\n"
     ]
    }
   ],
   "source": [
    "#k최근접 알고리즘\n",
    "from sklearn.neighbors import KNeighborsClassifier\n",
    "\n",
    "kn = KNeighborsClassifier()\n",
    "kn.fit(train_scaled, train_target)\n",
    "\n",
    "print(kn.score(train_scaled, train_target))\n",
    "print(kn.score(test_scaled, test_target))"
   ]
  },
  {
   "cell_type": "code",
   "execution_count": 24,
   "id": "f4758acb-db54-4ab7-8829-59350bd1b140",
   "metadata": {},
   "outputs": [
    {
     "data": {
      "text/plain": [
       "array(['Perch', 'Perch', 'Pike', 'Pike', 'Perch', 'Perch', 'Perch',\n",
       "       'Perch', 'Perch', 'Bream', 'Pike', 'Perch', 'Perch', 'Smelt',\n",
       "       'Parkki', 'Smelt', 'Perch', 'Perch', 'Perch', 'Perch', 'Bream',\n",
       "       'Pike', 'Perch', 'Roach', 'Bream', 'Bream', 'Bream', 'Perch',\n",
       "       'Perch', 'Bream', 'Bream', 'Bream', 'Parkki', 'Perch', 'Perch',\n",
       "       'Roach', 'Pike', 'Perch', 'Perch', 'Perch'], dtype=object)"
      ]
     },
     "execution_count": 24,
     "metadata": {},
     "output_type": "execute_result"
    }
   ],
   "source": [
    "kn.predict(test_scaled)"
   ]
  },
  {
   "cell_type": "code",
   "execution_count": 22,
   "id": "53904fe7-1854-4c46-a08d-f5f803dafea1",
   "metadata": {},
   "outputs": [
    {
     "data": {
      "text/plain": [
       "array([[0.2, 0. , 0.8, 0. , 0. , 0. , 0. ],\n",
       "       [0. , 0. , 1. , 0. , 0. , 0. , 0. ],\n",
       "       [0. , 0. , 0. , 1. , 0. , 0. , 0. ],\n",
       "       [0. , 0. , 0.2, 0.8, 0. , 0. , 0. ],\n",
       "       [0. , 0. , 0.4, 0. , 0.2, 0.4, 0. ],\n",
       "       [0. , 0. , 0.8, 0. , 0.2, 0. , 0. ],\n",
       "       [0. , 0. , 0.8, 0. , 0.2, 0. , 0. ],\n",
       "       [0. , 0. , 0.6, 0. , 0.4, 0. , 0. ],\n",
       "       [0. , 0. , 0.8, 0. , 0.2, 0. , 0. ],\n",
       "       [1. , 0. , 0. , 0. , 0. , 0. , 0. ],\n",
       "       [0. , 0. , 0.2, 0.6, 0.2, 0. , 0. ],\n",
       "       [0. , 0. , 0.6, 0. , 0.2, 0. , 0.2],\n",
       "       [0. , 0. , 0.8, 0. , 0. , 0. , 0.2],\n",
       "       [0. , 0. , 0. , 0. , 0. , 1. , 0. ],\n",
       "       [0. , 1. , 0. , 0. , 0. , 0. , 0. ],\n",
       "       [0. , 0. , 0. , 0. , 0. , 1. , 0. ],\n",
       "       [0. , 0. , 0.4, 0. , 0.4, 0. , 0.2],\n",
       "       [0. , 0. , 1. , 0. , 0. , 0. , 0. ],\n",
       "       [0. , 0. , 0.8, 0. , 0.2, 0. , 0. ],\n",
       "       [0. , 0. , 1. , 0. , 0. , 0. , 0. ],\n",
       "       [1. , 0. , 0. , 0. , 0. , 0. , 0. ],\n",
       "       [0. , 0. , 0.4, 0.6, 0. , 0. , 0. ],\n",
       "       [0. , 0. , 0.4, 0. , 0.4, 0. , 0.2],\n",
       "       [0. , 0. , 0.4, 0. , 0.6, 0. , 0. ],\n",
       "       [1. , 0. , 0. , 0. , 0. , 0. , 0. ],\n",
       "       [1. , 0. , 0. , 0. , 0. , 0. , 0. ],\n",
       "       [0.8, 0.2, 0. , 0. , 0. , 0. , 0. ],\n",
       "       [0. , 0. , 0.8, 0. , 0.2, 0. , 0. ],\n",
       "       [0. , 0. , 0.6, 0. , 0.4, 0. , 0. ],\n",
       "       [1. , 0. , 0. , 0. , 0. , 0. , 0. ],\n",
       "       [1. , 0. , 0. , 0. , 0. , 0. , 0. ],\n",
       "       [1. , 0. , 0. , 0. , 0. , 0. , 0. ],\n",
       "       [0. , 0.4, 0.2, 0. , 0.4, 0. , 0. ],\n",
       "       [0. , 0. , 0.6, 0. , 0.2, 0. , 0.2],\n",
       "       [0.2, 0. , 0.4, 0. , 0.2, 0. , 0.2],\n",
       "       [0. , 0. , 0.2, 0. , 0.4, 0. , 0.4],\n",
       "       [0. , 0. , 0.4, 0.6, 0. , 0. , 0. ],\n",
       "       [0. , 0. , 0.6, 0. , 0.2, 0. , 0.2],\n",
       "       [0. , 0. , 0.8, 0. , 0. , 0. , 0.2],\n",
       "       [0. , 0. , 0.8, 0. , 0.2, 0. , 0. ]])"
      ]
     },
     "execution_count": 22,
     "metadata": {},
     "output_type": "execute_result"
    }
   ],
   "source": [
    "#확률 볼거임\n",
    "kn.predict_proba(test_scaled)"
   ]
  },
  {
   "cell_type": "code",
   "execution_count": 41,
   "id": "8a0e4077-4b51-41b4-809e-7f056771b1d0",
   "metadata": {},
   "outputs": [],
   "source": [
    "#확률을 바탕으로 로지스틱 회귀를 사용해볼거임\n",
    "#로지스틱 회귀의 목표 = 선형방정식을 찾는것\n",
    "#z값이 높아질수록 그 데이터가 정확 할 확률이 높아짐\n",
    "#이진분류 할거임 = 도미와 빙어만 뽑아내야함\n",
    "\n",
    "#scaled에는 도미와 방어에 대한 데이터가 없음\n",
    "bream_smelt_indexes = (train_target == 'Bream') | (train_target == 'Smelt')\n",
    "#train_target #정답\n",
    "train_bs = train_scaled[bream_smelt_indexes['Species']]\n",
    "target_bs = train_target[bream_smelt_indexes['Species']]\n",
    "#target_bs"
   ]
  },
  {
   "cell_type": "code",
   "execution_count": 42,
   "id": "94680261-c8f7-4f96-898d-c7b41b888c5d",
   "metadata": {},
   "outputs": [
    {
     "name": "stderr",
     "output_type": "stream",
     "text": [
      "C:\\Users\\1-02\\Desktop\\DAMF2\\ml\\venv\\Lib\\site-packages\\sklearn\\utils\\validation.py:1408: DataConversionWarning: A column-vector y was passed when a 1d array was expected. Please change the shape of y to (n_samples, ), for example using ravel().\n",
      "  y = column_or_1d(y, warn=True)\n"
     ]
    },
    {
     "data": {
      "text/plain": [
       "array([[0.994, 0.006],\n",
       "       [0.067, 0.933],\n",
       "       [0.961, 0.039],\n",
       "       [0.985, 0.015],\n",
       "       [0.972, 0.028]])"
      ]
     },
     "execution_count": 42,
     "metadata": {},
     "output_type": "execute_result"
    }
   ],
   "source": [
    "from sklearn.linear_model import LogisticRegression\n",
    "lr = LogisticRegression()\n",
    "lr.fit(train_bs, target_bs) #학습시작\n",
    "\n",
    "#예측\n",
    "lr.predict(train_bs[:5])\n",
    "#확률 뽑아봐\n",
    "lr.predict_proba(train_bs[:5]).round(3)"
   ]
  },
  {
   "cell_type": "code",
   "execution_count": 43,
   "id": "db44d764-2e96-4ef6-b604-1ff8062d28fc",
   "metadata": {},
   "outputs": [
    {
     "data": {
      "text/plain": [
       "array([[-0.45742938, -0.64477397, -0.73263469, -1.02092184, -0.76147282]])"
      ]
     },
     "execution_count": 43,
     "metadata": {},
     "output_type": "execute_result"
    }
   ],
   "source": [
    "lr.coef_"
   ]
  },
  {
   "cell_type": "code",
   "execution_count": 48,
   "id": "ee5b438f-0851-404f-b62d-98ae34cee9c2",
   "metadata": {},
   "outputs": [
    {
     "name": "stdout",
     "output_type": "stream",
     "text": [
      "0.9327731092436975\n",
      "0.875\n"
     ]
    },
    {
     "name": "stderr",
     "output_type": "stream",
     "text": [
      "C:\\Users\\1-02\\Desktop\\DAMF2\\ml\\venv\\Lib\\site-packages\\sklearn\\utils\\validation.py:1408: DataConversionWarning: A column-vector y was passed when a 1d array was expected. Please change the shape of y to (n_samples, ), for example using ravel().\n",
      "  y = column_or_1d(y, warn=True)\n"
     ]
    }
   ],
   "source": [
    "#다중\n",
    "lr = LogisticRegression(C=20, max_iter=1000)\n",
    "lr.fit(train_scaled, train_target)  #7마리 다 학습\n",
    "print(lr.score(train_scaled, train_target))\n",
    "print(lr.score(test_scaled, test_target))"
   ]
  },
  {
   "cell_type": "code",
   "execution_count": 50,
   "id": "e7d18cdf-cb80-467f-8e65-71a45972685c",
   "metadata": {},
   "outputs": [
    {
     "data": {
      "text/plain": [
       "array([[0.005, 0.   , 0.867, 0.   , 0.034, 0.   , 0.094],\n",
       "       [0.043, 0.   , 0.725, 0.01 , 0.001, 0.   , 0.222],\n",
       "       [0.   , 0.   , 0.004, 0.996, 0.   , 0.   , 0.   ],\n",
       "       [0.   , 0.   , 0.07 , 0.903, 0.019, 0.001, 0.008],\n",
       "       [0.   , 0.016, 0.77 , 0.   , 0.119, 0.094, 0.002]])"
      ]
     },
     "execution_count": 50,
     "metadata": {},
     "output_type": "execute_result"
    }
   ],
   "source": [
    "lr.predict_proba(test_scaled[:5]).round(3) #확률출력"
   ]
  },
  {
   "cell_type": "code",
   "execution_count": 52,
   "id": "30d5ff0c-7301-45fc-b530-45fe5a22fd80",
   "metadata": {},
   "outputs": [
    {
     "data": {
      "text/plain": [
       "(7, 5)"
      ]
     },
     "execution_count": 52,
     "metadata": {},
     "output_type": "execute_result"
    }
   ],
   "source": [
    "lr.coef_.shape #특성을 만들어 낼 때 사용/(z를 7개 계산,5개의 특성)"
   ]
  },
  {
   "cell_type": "code",
   "execution_count": null,
   "id": "3326bd4a-ac99-4a38-9eb1-35ff54f85d61",
   "metadata": {},
   "outputs": [],
   "source": []
  }
 ],
 "metadata": {
  "kernelspec": {
   "display_name": "Python 3 (ipykernel)",
   "language": "python",
   "name": "python3"
  },
  "language_info": {
   "codemirror_mode": {
    "name": "ipython",
    "version": 3
   },
   "file_extension": ".py",
   "mimetype": "text/x-python",
   "name": "python",
   "nbconvert_exporter": "python",
   "pygments_lexer": "ipython3",
   "version": "3.13.2"
  }
 },
 "nbformat": 4,
 "nbformat_minor": 5
}
