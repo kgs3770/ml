{
 "cells": [
  {
   "cell_type": "code",
   "execution_count": 1,
   "id": "5a70bb51-e5fe-4b8f-a468-fdc44f19e0a4",
   "metadata": {},
   "outputs": [],
   "source": [
    "#확률적 경사 하강법\n",
    "#확률적 = 랜덤, 경사 = 기울기, 하강법 = 내려감\n",
    "#기울기를 따라서 내려감"
   ]
  },
  {
   "cell_type": "code",
   "execution_count": 2,
   "id": "3cd4b9a8-7af0-4119-a0f5-2d8a67a4a9d6",
   "metadata": {},
   "outputs": [],
   "source": [
    "#손실함수 = 실패율\n",
    "#머신러닝 알고리즘이 얼마나 엉터리인지 측정하는 기준\n",
    "#정확도가 높아질수록 손실은 떨어짐"
   ]
  },
  {
   "cell_type": "code",
   "execution_count": 3,
   "id": "e4158b2c-e84b-4854-96db-c4bf5e6045c6",
   "metadata": {},
   "outputs": [],
   "source": [
    "import pandas as pd\n",
    "\n",
    "df = pd.read_csv('data/Fish.csv')"
   ]
  },
  {
   "cell_type": "code",
   "execution_count": 5,
   "id": "35188f16-1347-4534-b935-6eb76e83b586",
   "metadata": {},
   "outputs": [],
   "source": [
    "fish_input = df[['Weight', 'Length2', 'Length3', 'Height', 'Width']]\n",
    "fish_target = df[['Species']]"
   ]
  },
  {
   "cell_type": "code",
   "execution_count": 1030,
   "id": "023229fd-3ec9-42ab-9162-328dd067455a",
   "metadata": {},
   "outputs": [],
   "source": [
    "#train_test_split()함수를 이용해 데이터를 훈련세트와 테스트 세트로 나눈다\n",
    "from sklearn.model_selection import train_test_split\n",
    "train_input, test_input, train_target, test_target = train_test_split(fish_input, fish_target)"
   ]
  },
  {
   "cell_type": "code",
   "execution_count": 1031,
   "id": "e3b7ff6c-e42a-4df3-9b65-a4c46a26f0aa",
   "metadata": {},
   "outputs": [],
   "source": [
    "#훈련세트와 테스트세트의 특성을 표준화 전처리\n",
    "\n",
    "from sklearn.preprocessing import StandardScaler\n",
    "\n",
    "ss = StandardScaler()\n",
    "ss.fit(train_input)\n",
    "train_scaled = ss.transform(train_input)\n",
    "test_scaled = ss.transform(test_input)"
   ]
  },
  {
   "cell_type": "code",
   "execution_count": 1028,
   "id": "3fb520c9-bdb7-4d05-bdc2-9aafee7298f2",
   "metadata": {},
   "outputs": [
    {
     "name": "stdout",
     "output_type": "stream",
     "text": [
      "0.8235294117647058\n",
      "0.875\n"
     ]
    },
    {
     "name": "stderr",
     "output_type": "stream",
     "text": [
      "C:\\Users\\1-02\\Desktop\\DAMF2\\ml\\venv\\Lib\\site-packages\\sklearn\\utils\\validation.py:1408: DataConversionWarning: A column-vector y was passed when a 1d array was expected. Please change the shape of y to (n_samples, ), for example using ravel().\n",
      "  y = column_or_1d(y, warn=True)\n"
     ]
    }
   ],
   "source": [
    "#확률적 경사 하강법을 제공하는 분류용 클래스 SGDClassifier 사용\n",
    "from sklearn.linear_model import SGDClassifier\n",
    "\n",
    "sc = SGDClassifier(loss='hinge', max_iter=99999) #max_iter는 반복을 몇번 할지(에포크를 몇번 돌릴거임?)/적정수준을 찾아야함\n",
    "sc.fit(train_scaled, train_target)\n",
    "\n",
    "print(sc.score(train_scaled, train_target))\n",
    "print(sc.score(test_scaled, test_target))"
   ]
  },
  {
   "cell_type": "code",
   "execution_count": 717,
   "id": "08d9f66b-69b5-4350-b0e2-df4986530f03",
   "metadata": {},
   "outputs": [
    {
     "name": "stdout",
     "output_type": "stream",
     "text": [
      "0.8991596638655462\n",
      "0.925\n"
     ]
    },
    {
     "name": "stderr",
     "output_type": "stream",
     "text": [
      "C:\\Users\\1-02\\Desktop\\DAMF2\\ml\\venv\\Lib\\site-packages\\sklearn\\utils\\validation.py:1408: DataConversionWarning: A column-vector y was passed when a 1d array was expected. Please change the shape of y to (n_samples, ), for example using ravel().\n",
      "  y = column_or_1d(y, warn=True)\n"
     ]
    }
   ],
   "source": [
    "#sc모델을 추가로 더 훈련 = partial_fit() 사용\n",
    "sc.partial_fit(train_scaled, train_target)\n",
    "print(sc.score(train_scaled, train_target))\n",
    "print(sc.score(test_scaled, test_target))"
   ]
  },
  {
   "cell_type": "code",
   "execution_count": null,
   "id": "462ad982-171e-4e53-b91d-c905dd12fd92",
   "metadata": {},
   "outputs": [],
   "source": []
  },
  {
   "cell_type": "code",
   "execution_count": null,
   "id": "cc63d2e4-0a7a-4760-89cf-6ba83735b20d",
   "metadata": {},
   "outputs": [],
   "source": []
  },
  {
   "cell_type": "code",
   "execution_count": null,
   "id": "93405f85-5058-4158-a50e-91ef131227fe",
   "metadata": {},
   "outputs": [],
   "source": []
  },
  {
   "cell_type": "code",
   "execution_count": null,
   "id": "0c5d05bb-b555-446d-bc93-f4fc1846afc6",
   "metadata": {},
   "outputs": [],
   "source": []
  },
  {
   "cell_type": "code",
   "execution_count": null,
   "id": "a95506c5-06bd-4d0d-a419-4a1e1449bd60",
   "metadata": {},
   "outputs": [],
   "source": []
  },
  {
   "cell_type": "code",
   "execution_count": null,
   "id": "f794f803-0425-4e64-b97c-d988973963b8",
   "metadata": {},
   "outputs": [],
   "source": []
  },
  {
   "cell_type": "code",
   "execution_count": null,
   "id": "36e699a1-78d2-43b7-96e8-d56941d5aa00",
   "metadata": {},
   "outputs": [],
   "source": []
  }
 ],
 "metadata": {
  "kernelspec": {
   "display_name": "Python 3 (ipykernel)",
   "language": "python",
   "name": "python3"
  },
  "language_info": {
   "codemirror_mode": {
    "name": "ipython",
    "version": 3
   },
   "file_extension": ".py",
   "mimetype": "text/x-python",
   "name": "python",
   "nbconvert_exporter": "python",
   "pygments_lexer": "ipython3",
   "version": "3.13.2"
  }
 },
 "nbformat": 4,
 "nbformat_minor": 5
}
